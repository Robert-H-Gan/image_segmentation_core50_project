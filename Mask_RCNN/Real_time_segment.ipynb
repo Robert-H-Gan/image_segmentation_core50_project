{
 "cells": [
  {
   "cell_type": "code",
   "execution_count": 1,
   "metadata": {},
   "outputs": [],
   "source": [
    "import cv2\n",
    "import numpy as np\n"
   ]
  },
  {
   "cell_type": "code",
   "execution_count": 2,
   "metadata": {},
   "outputs": [],
   "source": [
    "\n",
    "def random_colors(N):\n",
    "    np.random.seed(1)\n",
    "    colors = [tuple(255 * np.random.rand(3)) for _ in range(N)]\n",
    "    return colors\n",
    "\n",
    "\n",
    "def apply_mask(image, mask, color, alpha=0.5):\n",
    "    \"\"\"apply mask to image\"\"\"\n",
    "    for n, c in enumerate(color):\n",
    "        image[:, :, n] = np.where(\n",
    "            mask == 1,\n",
    "            image[:, :, n] * (1 - alpha) + alpha * c,\n",
    "            image[:, :, n]\n",
    "        )\n",
    "    return image\n",
    "\n",
    "\n",
    "def display_instances(image, boxes, masks, ids, names, scores):\n",
    "    \"\"\"\n",
    "        take the image and results and apply the mask, box, and Label\n",
    "    \"\"\"\n",
    "    n_instances = boxes.shape[0]\n",
    "    colors = random_colors(n_instances)\n",
    "\n",
    "    if not n_instances:\n",
    "        print('NO INSTANCES TO DISPLAY')\n",
    "    else:\n",
    "        assert boxes.shape[0] == masks.shape[-1] == ids.shape[0]\n",
    "\n",
    "    for i, color in enumerate(colors):\n",
    "        if not np.any(boxes[i]):\n",
    "            continue\n",
    "\n",
    "        y1, x1, y2, x2 = boxes[i]\n",
    "        label = names[ids[i]]\n",
    "        score = scores[i] if scores is not None else None\n",
    "        caption = '{} {:.2f}'.format(label, score) if score else label\n",
    "        mask = masks[:, :, i]\n",
    "\n",
    "        image = apply_mask(image, mask, color)\n",
    "        image = cv2.rectangle(image, (x1, y1), (x2, y2), color, 2)\n",
    "        image = cv2.putText(\n",
    "            image, caption, (x1, y1), cv2.FONT_HERSHEY_COMPLEX, 0.7, color, 2\n",
    "        )\n",
    "\n",
    "    return image\n"
   ]
  },
  {
   "cell_type": "code",
   "execution_count": 6,
   "metadata": {},
   "outputs": [
    {
     "name": "stdout",
     "output_type": "stream",
     "text": [
      "Requirement already satisfied: cython in d:\\anaconda\\envs\\mrcnn\\lib\\site-packages (0.29.14)\n",
      "Note: you may need to restart the kernel to use updated packages.\n"
     ]
    }
   ],
   "source": [
    "pip install cython"
   ]
  },
  {
   "cell_type": "code",
   "execution_count": 7,
   "metadata": {},
   "outputs": [
    {
     "name": "stdout",
     "output_type": "stream",
     "text": [
      "Collecting pycocotools\n",
      "  Cloning https://github.com/philferriere/cocoapi.git to c:\\users\\robert~1\\appdata\\local\\temp\\pip-install-7o6742r1\\pycocotools\n",
      "Building wheels for collected packages: pycocotools\n",
      "  Building wheel for pycocotools (setup.py): started\n",
      "  Building wheel for pycocotools (setup.py): finished with status 'done'\n",
      "  Created wheel for pycocotools: filename=pycocotools-2.0-cp36-cp36m-win_amd64.whl size=79866 sha256=ee4aca1cecbfa51f9d7d2e30781f3627a8b5154986538dc7c2bfaf9ec11631ce\n",
      "  Stored in directory: C:\\Users\\ROBERT~1\\AppData\\Local\\Temp\\pip-ephem-wheel-cache-_cu7ucfd\\wheels\\69\\2b\\12\\2fa959e49f73d26cff202c2f4e5079096c9c57c8a8509fd75c\n",
      "Successfully built pycocotools\n",
      "Installing collected packages: pycocotools\n",
      "Successfully installed pycocotools-2.0\n",
      "Note: you may need to restart the kernel to use updated packages.\n"
     ]
    },
    {
     "name": "stderr",
     "output_type": "stream",
     "text": [
      "  Running command git clone -q https://github.com/philferriere/cocoapi.git 'C:\\Users\\ROBERT~1\\AppData\\Local\\Temp\\pip-install-7o6742r1\\pycocotools'\n"
     ]
    }
   ],
   "source": [
    "pip install git+https://github.com/philferriere/cocoapi.git#egg=pycocotools^&subdirectory=PythonAPI\n"
   ]
  },
  {
   "cell_type": "code",
   "execution_count": 4,
   "metadata": {},
   "outputs": [
    {
     "name": "stdout",
     "output_type": "stream",
     "text": [
      "Requirement already satisfied: opencv-python in d:\\anaconda\\envs\\mrcnn\\lib\\site-packages (4.1.2.30)\n",
      "Requirement already satisfied: numpy>=1.11.3 in d:\\anaconda\\envs\\mrcnn\\lib\\site-packages (from opencv-python) (1.17.4)\n",
      "Note: you may need to restart the kernel to use updated packages.\n"
     ]
    }
   ],
   "source": [
    "pip install opencv-python "
   ]
  },
  {
   "cell_type": "code",
   "execution_count": 5,
   "metadata": {
    "scrolled": true
   },
   "outputs": [
    {
     "name": "stdout",
     "output_type": "stream",
     "text": [
      "Collecting opencv-contrib-python\n",
      "  Downloading https://files.pythonhosted.org/packages/bf/2a/954507b9308378cc0de3082bf0716dcfd915fe6f9c1bb786f0c6c2b219d2/opencv_contrib_python-4.1.2.30-cp36-cp36m-win_amd64.whl (39.4MB)\n",
      "Requirement already satisfied: numpy>=1.11.3 in d:\\anaconda\\envs\\mrcnn\\lib\\site-packages (from opencv-contrib-python) (1.17.4)\n",
      "Installing collected packages: opencv-contrib-python\n",
      "Note: you may need to restart the kernel to use updated packages.\n"
     ]
    },
    {
     "name": "stderr",
     "output_type": "stream",
     "text": [
      "ERROR: Could not install packages due to an EnvironmentError: [WinError 5] Accès refusé: 'd:\\\\anaconda\\\\envs\\\\mrcnn\\\\Lib\\\\site-packages\\\\cv2\\\\cv2.cp36-win_amd64.pyd'\n",
      "Consider using the `--user` option or check the permissions.\n",
      "\n"
     ]
    }
   ],
   "source": [
    "pip install opencv-contrib-python "
   ]
  },
  {
   "cell_type": "code",
   "execution_count": 4,
   "metadata": {},
   "outputs": [
    {
     "name": "stdout",
     "output_type": "stream",
     "text": [
      "Collecting package metadata (repodata.json): ...working... done\n",
      "Solving environment: ...working... failed\n",
      "\n",
      "Note: you may need to restart the kernel to use updated packages.\n"
     ]
    },
    {
     "name": "stderr",
     "output_type": "stream",
     "text": [
      "\n",
      "PackagesNotFoundError: The following packages are missing from the target environment:\n",
      "  - opencv\n",
      "\n",
      "\n"
     ]
    }
   ],
   "source": [
    "conda remove opencv\n"
   ]
  },
  {
   "cell_type": "code",
   "execution_count": 5,
   "metadata": {
    "scrolled": true
   },
   "outputs": [
    {
     "name": "stdout",
     "output_type": "stream",
     "text": [
      "Collecting package metadata (repodata.json): ...working... done\n",
      "Solving environment: ...working... done\n",
      "\n",
      "## Package Plan ##\n",
      "\n",
      "  environment location: d:\\anaconda\\envs\\mrcnn\n",
      "\n",
      "  added / updated specs:\n",
      "    - opencv\n",
      "\n",
      "\n",
      "The following packages will be downloaded:\n",
      "\n",
      "    package                    |            build\n",
      "    ---------------------------|-----------------\n",
      "    hdf5-1.8.20                |       hac2f561_1        26.7 MB\n",
      "    libopencv-3.4.2            |       h20b85fd_0        37.4 MB\n",
      "    libtiff-4.1.0              |       h56a325e_0         997 KB\n",
      "    mkl-service-2.3.0          |   py36hb782905_0         200 KB\n",
      "    mkl_fft-1.0.15             |   py36h14836fe_0         137 KB\n",
      "    mkl_random-1.1.0           |   py36h675688f_0         271 KB\n",
      "    numpy-1.17.4               |   py36h4320e6b_0           5 KB\n",
      "    numpy-base-1.17.4          |   py36hc3f5095_0         4.8 MB\n",
      "    opencv-3.4.2               |   py36h40b0b35_0          10 KB\n",
      "    py-opencv-3.4.2            |   py36hc319ecb_0         1.5 MB\n",
      "    six-1.13.0                 |           py36_0          27 KB\n",
      "    ------------------------------------------------------------\n",
      "                                           Total:        71.9 MB\n",
      "\n",
      "The following NEW packages will be INSTALLED:\n",
      "\n",
      "  blas               pkgs/main/win-64::blas-1.0-mkl\n",
      "  hdf5               pkgs/main/win-64::hdf5-1.8.20-hac2f561_1\n",
      "  icc_rt             pkgs/main/win-64::icc_rt-2019.0.0-h0cc432a_1\n",
      "  intel-openmp       pkgs/main/win-64::intel-openmp-2019.4-245\n",
      "  jpeg               pkgs/main/win-64::jpeg-9b-hb83a4c4_2\n",
      "  libopencv          pkgs/main/win-64::libopencv-3.4.2-h20b85fd_0\n",
      "  libpng             pkgs/main/win-64::libpng-1.6.37-h2a8f88b_0\n",
      "  libtiff            pkgs/main/win-64::libtiff-4.1.0-h56a325e_0\n",
      "  mkl                pkgs/main/win-64::mkl-2019.4-245\n",
      "  mkl-service        pkgs/main/win-64::mkl-service-2.3.0-py36hb782905_0\n",
      "  mkl_fft            pkgs/main/win-64::mkl_fft-1.0.15-py36h14836fe_0\n",
      "  mkl_random         pkgs/main/win-64::mkl_random-1.1.0-py36h675688f_0\n",
      "  numpy              pkgs/main/win-64::numpy-1.17.4-py36h4320e6b_0\n",
      "  numpy-base         pkgs/main/win-64::numpy-base-1.17.4-py36hc3f5095_0\n",
      "  opencv             pkgs/main/win-64::opencv-3.4.2-py36h40b0b35_0\n",
      "  py-opencv          pkgs/main/win-64::py-opencv-3.4.2-py36hc319ecb_0\n",
      "  six                pkgs/main/win-64::six-1.13.0-py36_0\n",
      "  xz                 pkgs/main/win-64::xz-5.2.4-h2fa13f4_4\n",
      "  zlib               pkgs/main/win-64::zlib-1.2.11-h62dcd97_3\n",
      "  zstd               pkgs/main/win-64::zstd-1.3.7-h508b16e_0\n",
      "\n",
      "\n",
      "\n",
      "Downloading and Extracting Packages\n",
      "\n",
      "numpy-base-1.17.4    | 4.8 MB    |            |   0% \n",
      "numpy-base-1.17.4    | 4.8 MB    |            |   0% \n",
      "numpy-base-1.17.4    | 4.8 MB    | 3          |   4% \n",
      "numpy-base-1.17.4    | 4.8 MB    | 5          |   6% \n",
      "numpy-base-1.17.4    | 4.8 MB    | #6         |  16% \n",
      "numpy-base-1.17.4    | 4.8 MB    | ##6        |  26% \n",
      "numpy-base-1.17.4    | 4.8 MB    | ###8       |  39% \n",
      "numpy-base-1.17.4    | 4.8 MB    | #####1     |  51% \n",
      "numpy-base-1.17.4    | 4.8 MB    | ######6    |  66% \n",
      "numpy-base-1.17.4    | 4.8 MB    | #######8   |  79% \n",
      "numpy-base-1.17.4    | 4.8 MB    | ########8  |  89% \n",
      "numpy-base-1.17.4    | 4.8 MB    | ########## | 100% \n",
      "\n",
      "hdf5-1.8.20          | 26.7 MB   |            |   0% \n",
      "hdf5-1.8.20          | 26.7 MB   |            |   0% \n",
      "hdf5-1.8.20          | 26.7 MB   | 1          |   1% \n",
      "hdf5-1.8.20          | 26.7 MB   | 2          |   3% \n",
      "hdf5-1.8.20          | 26.7 MB   | 4          |   5% \n",
      "hdf5-1.8.20          | 26.7 MB   | 5          |   6% \n",
      "hdf5-1.8.20          | 26.7 MB   | 6          |   6% \n",
      "hdf5-1.8.20          | 26.7 MB   | 7          |   7% \n",
      "hdf5-1.8.20          | 26.7 MB   | 8          |   8% \n",
      "hdf5-1.8.20          | 26.7 MB   | 9          |   9% \n",
      "hdf5-1.8.20          | 26.7 MB   | 9          |  10% \n",
      "hdf5-1.8.20          | 26.7 MB   | #          |  11% \n",
      "hdf5-1.8.20          | 26.7 MB   | #1         |  11% \n",
      "hdf5-1.8.20          | 26.7 MB   | #2         |  12% \n",
      "hdf5-1.8.20          | 26.7 MB   | #3         |  13% \n",
      "hdf5-1.8.20          | 26.7 MB   | #4         |  14% \n",
      "hdf5-1.8.20          | 26.7 MB   | #6         |  16% \n",
      "hdf5-1.8.20          | 26.7 MB   | #7         |  17% \n",
      "hdf5-1.8.20          | 26.7 MB   | #8         |  19% \n",
      "hdf5-1.8.20          | 26.7 MB   | ##         |  21% \n",
      "hdf5-1.8.20          | 26.7 MB   | ##2        |  22% \n",
      "hdf5-1.8.20          | 26.7 MB   | ##3        |  23% \n",
      "hdf5-1.8.20          | 26.7 MB   | ##4        |  25% \n",
      "hdf5-1.8.20          | 26.7 MB   | ##5        |  26% \n",
      "hdf5-1.8.20          | 26.7 MB   | ##6        |  27% \n",
      "hdf5-1.8.20          | 26.7 MB   | ##7        |  28% \n",
      "hdf5-1.8.20          | 26.7 MB   | ##8        |  29% \n",
      "hdf5-1.8.20          | 26.7 MB   | ###        |  30% \n",
      "hdf5-1.8.20          | 26.7 MB   | ###1       |  32% \n",
      "hdf5-1.8.20          | 26.7 MB   | ###3       |  34% \n",
      "hdf5-1.8.20          | 26.7 MB   | ###5       |  36% \n",
      "hdf5-1.8.20          | 26.7 MB   | ###6       |  37% \n",
      "hdf5-1.8.20          | 26.7 MB   | ###8       |  39% \n",
      "hdf5-1.8.20          | 26.7 MB   | ####       |  41% \n",
      "hdf5-1.8.20          | 26.7 MB   | ####2      |  42% \n",
      "hdf5-1.8.20          | 26.7 MB   | ####4      |  44% \n",
      "hdf5-1.8.20          | 26.7 MB   | ####6      |  46% \n",
      "hdf5-1.8.20          | 26.7 MB   | ####8      |  48% \n",
      "hdf5-1.8.20          | 26.7 MB   | ####9      |  50% \n",
      "hdf5-1.8.20          | 26.7 MB   | #####2     |  52% \n",
      "hdf5-1.8.20          | 26.7 MB   | #####3     |  54% \n",
      "hdf5-1.8.20          | 26.7 MB   | #####6     |  56% \n",
      "hdf5-1.8.20          | 26.7 MB   | #####8     |  59% \n",
      "hdf5-1.8.20          | 26.7 MB   | ######     |  61% \n",
      "hdf5-1.8.20          | 26.7 MB   | ######2    |  63% \n",
      "hdf5-1.8.20          | 26.7 MB   | ######4    |  65% \n",
      "hdf5-1.8.20          | 26.7 MB   | ######6    |  67% \n",
      "hdf5-1.8.20          | 26.7 MB   | ######8    |  69% \n",
      "hdf5-1.8.20          | 26.7 MB   | #######    |  70% \n",
      "hdf5-1.8.20          | 26.7 MB   | #######2   |  73% \n",
      "hdf5-1.8.20          | 26.7 MB   | #######4   |  75% \n",
      "hdf5-1.8.20          | 26.7 MB   | #######6   |  77% \n",
      "hdf5-1.8.20          | 26.7 MB   | #######8   |  79% \n",
      "hdf5-1.8.20          | 26.7 MB   | ########   |  81% \n",
      "hdf5-1.8.20          | 26.7 MB   | ########2  |  83% \n",
      "hdf5-1.8.20          | 26.7 MB   | ########4  |  85% \n",
      "hdf5-1.8.20          | 26.7 MB   | ########6  |  87% \n",
      "hdf5-1.8.20          | 26.7 MB   | ########9  |  89% \n",
      "hdf5-1.8.20          | 26.7 MB   | #########1 |  91% \n",
      "hdf5-1.8.20          | 26.7 MB   | #########3 |  93% \n",
      "hdf5-1.8.20          | 26.7 MB   | #########4 |  95% \n",
      "hdf5-1.8.20          | 26.7 MB   | #########6 |  97% \n",
      "hdf5-1.8.20          | 26.7 MB   | #########8 |  99% \n",
      "hdf5-1.8.20          | 26.7 MB   | ########## | 100% \n",
      "\n",
      "py-opencv-3.4.2      | 1.5 MB    |            |   0% \n",
      "py-opencv-3.4.2      | 1.5 MB    | 1          |   1% \n",
      "py-opencv-3.4.2      | 1.5 MB    | #7         |  18% \n",
      "py-opencv-3.4.2      | 1.5 MB    | ###3       |  33% \n",
      "py-opencv-3.4.2      | 1.5 MB    | ####2      |  43% \n",
      "py-opencv-3.4.2      | 1.5 MB    | #####4     |  54% \n",
      "py-opencv-3.4.2      | 1.5 MB    | ######6    |  66% \n",
      "py-opencv-3.4.2      | 1.5 MB    | ########2  |  82% \n",
      "py-opencv-3.4.2      | 1.5 MB    | #########3 |  93% \n",
      "py-opencv-3.4.2      | 1.5 MB    | ########## | 100% \n",
      "\n",
      "mkl_random-1.1.0     | 271 KB    |            |   0% \n",
      "mkl_random-1.1.0     | 271 KB    | ########8  |  89% \n",
      "mkl_random-1.1.0     | 271 KB    | ########## | 100% \n",
      "\n",
      "opencv-3.4.2         | 10 KB     |            |   0% \n",
      "opencv-3.4.2         | 10 KB     | ########## | 100% \n",
      "\n",
      "libopencv-3.4.2      | 37.4 MB   |            |   0% \n",
      "libopencv-3.4.2      | 37.4 MB   |            |   1% \n",
      "libopencv-3.4.2      | 37.4 MB   | 1          |   2% \n",
      "libopencv-3.4.2      | 37.4 MB   | 2          |   2% \n",
      "libopencv-3.4.2      | 37.4 MB   | 3          |   3% \n",
      "libopencv-3.4.2      | 37.4 MB   | 4          |   4% \n",
      "libopencv-3.4.2      | 37.4 MB   | 5          |   5% \n",
      "libopencv-3.4.2      | 37.4 MB   | 6          |   6% \n",
      "libopencv-3.4.2      | 37.4 MB   | 7          |   7% \n",
      "libopencv-3.4.2      | 37.4 MB   | 7          |   8% \n",
      "libopencv-3.4.2      | 37.4 MB   | 8          |   8% \n",
      "libopencv-3.4.2      | 37.4 MB   | 9          |   9% \n",
      "libopencv-3.4.2      | 37.4 MB   | 9          |  10% \n",
      "libopencv-3.4.2      | 37.4 MB   | #1         |  11% \n",
      "libopencv-3.4.2      | 37.4 MB   | #3         |  13% \n",
      "libopencv-3.4.2      | 37.4 MB   | #4         |  15% \n",
      "libopencv-3.4.2      | 37.4 MB   | #6         |  16% \n",
      "libopencv-3.4.2      | 37.4 MB   | #7         |  17% \n",
      "libopencv-3.4.2      | 37.4 MB   | #8         |  18% \n",
      "libopencv-3.4.2      | 37.4 MB   | #9         |  19% \n",
      "libopencv-3.4.2      | 37.4 MB   | ##         |  20% \n",
      "libopencv-3.4.2      | 37.4 MB   | ##1        |  22% \n",
      "libopencv-3.4.2      | 37.4 MB   | ##2        |  23% \n",
      "libopencv-3.4.2      | 37.4 MB   | ##3        |  24% \n",
      "libopencv-3.4.2      | 37.4 MB   | ##4        |  25% \n",
      "libopencv-3.4.2      | 37.4 MB   | ##6        |  26% \n",
      "libopencv-3.4.2      | 37.4 MB   | ##7        |  28% \n",
      "libopencv-3.4.2      | 37.4 MB   | ##9        |  29% \n",
      "libopencv-3.4.2      | 37.4 MB   | ###        |  31% \n",
      "libopencv-3.4.2      | 37.4 MB   | ###2       |  32% \n",
      "libopencv-3.4.2      | 37.4 MB   | ###3       |  34% \n",
      "libopencv-3.4.2      | 37.4 MB   | ###5       |  35% \n",
      "libopencv-3.4.2      | 37.4 MB   | ###6       |  37% \n",
      "libopencv-3.4.2      | 37.4 MB   | ###8       |  38% \n",
      "libopencv-3.4.2      | 37.4 MB   | ###9       |  39% \n",
      "libopencv-3.4.2      | 37.4 MB   | ####       |  41% \n",
      "libopencv-3.4.2      | 37.4 MB   | ####2      |  42% \n",
      "libopencv-3.4.2      | 37.4 MB   | ####3      |  44% \n",
      "libopencv-3.4.2      | 37.4 MB   | ####5      |  45% \n",
      "libopencv-3.4.2      | 37.4 MB   | ####6      |  47% \n",
      "libopencv-3.4.2      | 37.4 MB   | ####7      |  48% \n",
      "libopencv-3.4.2      | 37.4 MB   | ####9      |  49% \n",
      "libopencv-3.4.2      | 37.4 MB   | #####      |  51% \n",
      "libopencv-3.4.2      | 37.4 MB   | #####2     |  52% \n",
      "libopencv-3.4.2      | 37.4 MB   | #####3     |  54% \n",
      "libopencv-3.4.2      | 37.4 MB   | #####4     |  55% \n",
      "libopencv-3.4.2      | 37.4 MB   | #####6     |  56% \n",
      "libopencv-3.4.2      | 37.4 MB   | #####7     |  58% \n",
      "libopencv-3.4.2      | 37.4 MB   | #####8     |  59% \n",
      "libopencv-3.4.2      | 37.4 MB   | ######     |  60% \n",
      "libopencv-3.4.2      | 37.4 MB   | ######1    |  62% \n",
      "libopencv-3.4.2      | 37.4 MB   | ######3    |  63% \n",
      "libopencv-3.4.2      | 37.4 MB   | ######4    |  65% \n",
      "libopencv-3.4.2      | 37.4 MB   | ######6    |  66% \n",
      "libopencv-3.4.2      | 37.4 MB   | ######7    |  68% \n",
      "libopencv-3.4.2      | 37.4 MB   | ######8    |  69% \n",
      "libopencv-3.4.2      | 37.4 MB   | #######    |  70% \n",
      "libopencv-3.4.2      | 37.4 MB   | #######1   |  72% \n",
      "libopencv-3.4.2      | 37.4 MB   | #######3   |  73% \n",
      "libopencv-3.4.2      | 37.4 MB   | #######4   |  75% \n",
      "libopencv-3.4.2      | 37.4 MB   | #######6   |  76% \n",
      "libopencv-3.4.2      | 37.4 MB   | #######7   |  78% \n",
      "libopencv-3.4.2      | 37.4 MB   | #######9   |  79% \n",
      "libopencv-3.4.2      | 37.4 MB   | ########   |  81% \n",
      "libopencv-3.4.2      | 37.4 MB   | ########2  |  82% \n",
      "libopencv-3.4.2      | 37.4 MB   | ########3  |  84% \n",
      "libopencv-3.4.2      | 37.4 MB   | ########5  |  85% \n",
      "libopencv-3.4.2      | 37.4 MB   | ########6  |  87% \n",
      "libopencv-3.4.2      | 37.4 MB   | ########7  |  88% \n",
      "libopencv-3.4.2      | 37.4 MB   | ########9  |  90% \n",
      "libopencv-3.4.2      | 37.4 MB   | #########  |  91% \n",
      "libopencv-3.4.2      | 37.4 MB   | #########2 |  92% \n",
      "libopencv-3.4.2      | 37.4 MB   | #########3 |  94% \n",
      "libopencv-3.4.2      | 37.4 MB   | #########5 |  95% \n",
      "libopencv-3.4.2      | 37.4 MB   | #########6 |  97% \n",
      "libopencv-3.4.2      | 37.4 MB   | #########8 |  98% \n",
      "libopencv-3.4.2      | 37.4 MB   | #########9 | 100% \n",
      "libopencv-3.4.2      | 37.4 MB   | ########## | 100% \n",
      "\n",
      "six-1.13.0           | 27 KB     |            |   0% \n",
      "six-1.13.0           | 27 KB     | ########## | 100% \n",
      "\n",
      "mkl_fft-1.0.15       | 137 KB    |            |   0% \n",
      "mkl_fft-1.0.15       | 137 KB    | ########1  |  82% \n",
      "mkl_fft-1.0.15       | 137 KB    | ########## | 100% \n",
      "\n",
      "numpy-1.17.4         | 5 KB      |            |   0% \n",
      "numpy-1.17.4         | 5 KB      | ########## | 100% \n",
      "\n",
      "libtiff-4.1.0        | 997 KB    |            |   0% \n",
      "libtiff-4.1.0        | 997 KB    | ####       |  40% \n",
      "libtiff-4.1.0        | 997 KB    | #########6 |  96% \n",
      "libtiff-4.1.0        | 997 KB    | ########## | 100% \n",
      "\n",
      "mkl-service-2.3.0    | 200 KB    |            |   0% \n",
      "mkl-service-2.3.0    | 200 KB    | ########## | 100% \n",
      "Preparing transaction: ...working... done\n",
      "Verifying transaction: ...working... done\n",
      "Executing transaction: ...working... done\n",
      "\n",
      "Note: you may need to restart the kernel to use updated packages.\n"
     ]
    }
   ],
   "source": [
    "conda install -c menpo opencv\n"
   ]
  },
  {
   "cell_type": "code",
   "execution_count": 7,
   "metadata": {
    "scrolled": false
   },
   "outputs": [
    {
     "name": "stdout",
     "output_type": "stream",
     "text": [
      "Requirement already up-to-date: pip in d:\\anaconda\\envs\\mrcnn\\lib\\site-packages (19.3.1)\n",
      "Note: you may need to restart the kernel to use updated packages.\n"
     ]
    }
   ],
   "source": [
    "pip install --upgrade pip\n"
   ]
  },
  {
   "cell_type": "code",
   "execution_count": 8,
   "metadata": {
    "scrolled": true
   },
   "outputs": [
    {
     "name": "stdout",
     "output_type": "stream",
     "text": [
      "Collecting opencv-contrib-python\n",
      "  Using cached https://files.pythonhosted.org/packages/bf/2a/954507b9308378cc0de3082bf0716dcfd915fe6f9c1bb786f0c6c2b219d2/opencv_contrib_python-4.1.2.30-cp36-cp36m-win_amd64.whl\n",
      "Requirement already satisfied: numpy>=1.11.3 in d:\\anaconda\\envs\\mrcnn\\lib\\site-packages (from opencv-contrib-python) (1.17.4)\n",
      "Installing collected packages: opencv-contrib-python\n",
      "Note: you may need to restart the kernel to use updated packages.\n"
     ]
    },
    {
     "name": "stderr",
     "output_type": "stream",
     "text": [
      "ERROR: Could not install packages due to an EnvironmentError: [WinError 5] Accès refusé: 'd:\\\\anaconda\\\\envs\\\\mrcnn\\\\Lib\\\\site-packages\\\\cv2\\\\cv2.cp36-win_amd64.pyd'\n",
      "Consider using the `--user` option or check the permissions.\n",
      "\n"
     ]
    }
   ],
   "source": [
    "pip install opencv-contrib-python"
   ]
  },
  {
   "cell_type": "code",
   "execution_count": 3,
   "metadata": {},
   "outputs": [
    {
     "name": "stderr",
     "output_type": "stream",
     "text": [
      "d:\\anaconda\\envs\\mrcnn\\lib\\site-packages\\tensorflow\\python\\framework\\dtypes.py:469: FutureWarning: Passing (type, 1) or '1type' as a synonym of type is deprecated; in a future version of numpy, it will be understood as (type, (1,)) / '(1,)type'.\n",
      "  _np_qint8 = np.dtype([(\"qint8\", np.int8, 1)])\n",
      "d:\\anaconda\\envs\\mrcnn\\lib\\site-packages\\tensorflow\\python\\framework\\dtypes.py:470: FutureWarning: Passing (type, 1) or '1type' as a synonym of type is deprecated; in a future version of numpy, it will be understood as (type, (1,)) / '(1,)type'.\n",
      "  _np_quint8 = np.dtype([(\"quint8\", np.uint8, 1)])\n",
      "d:\\anaconda\\envs\\mrcnn\\lib\\site-packages\\tensorflow\\python\\framework\\dtypes.py:471: FutureWarning: Passing (type, 1) or '1type' as a synonym of type is deprecated; in a future version of numpy, it will be understood as (type, (1,)) / '(1,)type'.\n",
      "  _np_qint16 = np.dtype([(\"qint16\", np.int16, 1)])\n",
      "d:\\anaconda\\envs\\mrcnn\\lib\\site-packages\\tensorflow\\python\\framework\\dtypes.py:472: FutureWarning: Passing (type, 1) or '1type' as a synonym of type is deprecated; in a future version of numpy, it will be understood as (type, (1,)) / '(1,)type'.\n",
      "  _np_quint16 = np.dtype([(\"quint16\", np.uint16, 1)])\n",
      "d:\\anaconda\\envs\\mrcnn\\lib\\site-packages\\tensorflow\\python\\framework\\dtypes.py:473: FutureWarning: Passing (type, 1) or '1type' as a synonym of type is deprecated; in a future version of numpy, it will be understood as (type, (1,)) / '(1,)type'.\n",
      "  _np_qint32 = np.dtype([(\"qint32\", np.int32, 1)])\n",
      "d:\\anaconda\\envs\\mrcnn\\lib\\site-packages\\tensorflow\\python\\framework\\dtypes.py:476: FutureWarning: Passing (type, 1) or '1type' as a synonym of type is deprecated; in a future version of numpy, it will be understood as (type, (1,)) / '(1,)type'.\n",
      "  np_resource = np.dtype([(\"resource\", np.ubyte, 1)])\n",
      "Using TensorFlow backend.\n"
     ]
    },
    {
     "name": "stdout",
     "output_type": "stream",
     "text": [
      "\n",
      "Configurations:\n",
      "BACKBONE                       resnet101\n",
      "BACKBONE_STRIDES               [4, 8, 16, 32, 64]\n",
      "BATCH_SIZE                     1\n",
      "BBOX_STD_DEV                   [0.1 0.1 0.2 0.2]\n",
      "COMPUTE_BACKBONE_SHAPE         None\n",
      "DETECTION_MAX_INSTANCES        100\n",
      "DETECTION_MIN_CONFIDENCE       0.7\n",
      "DETECTION_NMS_THRESHOLD        0.3\n",
      "FPN_CLASSIF_FC_LAYERS_SIZE     1024\n",
      "GPU_COUNT                      1\n",
      "GRADIENT_CLIP_NORM             5.0\n",
      "IMAGES_PER_GPU                 1\n",
      "IMAGE_CHANNEL_COUNT            3\n",
      "IMAGE_MAX_DIM                  1024\n",
      "IMAGE_META_SIZE                93\n",
      "IMAGE_MIN_DIM                  800\n",
      "IMAGE_MIN_SCALE                0\n",
      "IMAGE_RESIZE_MODE              square\n",
      "IMAGE_SHAPE                    [1024 1024    3]\n",
      "LEARNING_MOMENTUM              0.9\n",
      "LEARNING_RATE                  0.001\n",
      "LOSS_WEIGHTS                   {'rpn_class_loss': 1.0, 'rpn_bbox_loss': 1.0, 'mrcnn_class_loss': 1.0, 'mrcnn_bbox_loss': 1.0, 'mrcnn_mask_loss': 1.0}\n",
      "MASK_POOL_SIZE                 14\n",
      "MASK_SHAPE                     [28, 28]\n",
      "MAX_GT_INSTANCES               100\n",
      "MEAN_PIXEL                     [123.7 116.8 103.9]\n",
      "MINI_MASK_SHAPE                (56, 56)\n",
      "NAME                           coco\n",
      "NUM_CLASSES                    81\n",
      "POOL_SIZE                      7\n",
      "POST_NMS_ROIS_INFERENCE        1000\n",
      "POST_NMS_ROIS_TRAINING         2000\n",
      "PRE_NMS_LIMIT                  6000\n",
      "ROI_POSITIVE_RATIO             0.33\n",
      "RPN_ANCHOR_RATIOS              [0.5, 1, 2]\n",
      "RPN_ANCHOR_SCALES              (32, 64, 128, 256, 512)\n",
      "RPN_ANCHOR_STRIDE              1\n",
      "RPN_BBOX_STD_DEV               [0.1 0.1 0.2 0.2]\n",
      "RPN_NMS_THRESHOLD              0.7\n",
      "RPN_TRAIN_ANCHORS_PER_IMAGE    256\n",
      "STEPS_PER_EPOCH                1000\n",
      "TOP_DOWN_PYRAMID_SIZE          256\n",
      "TRAIN_BN                       False\n",
      "TRAIN_ROIS_PER_IMAGE           200\n",
      "USE_MINI_MASK                  True\n",
      "USE_RPN_ROIS                   True\n",
      "VALIDATION_STEPS               50\n",
      "WEIGHT_DECAY                   0.0001\n",
      "\n",
      "\n"
     ]
    },
    {
     "ename": "error",
     "evalue": "OpenCV(4.1.2) C:\\projects\\opencv-python\\opencv\\modules\\highgui\\src\\window.cpp:651: error: (-2:Unspecified error) The function is not implemented. Rebuild the library with Windows, GTK+ 2.x or Cocoa support. If you are on Ubuntu or Debian, install libgtk2.0-dev and pkg-config, then re-run cmake or configure script in function 'cvShowImage'\n",
     "output_type": "error",
     "traceback": [
      "\u001b[1;31m---------------------------------------------------------------------------\u001b[0m",
      "\u001b[1;31merror\u001b[0m                                     Traceback (most recent call last)",
      "\u001b[1;32m<ipython-input-3-011c1dd128f3>\u001b[0m in \u001b[0;36m<module>\u001b[1;34m\u001b[0m\n\u001b[0;32m     59\u001b[0m         )\n\u001b[0;32m     60\u001b[0m \u001b[1;31m#        print(frame)\u001b[0m\u001b[1;33m\u001b[0m\u001b[1;33m\u001b[0m\u001b[1;33m\u001b[0m\u001b[0m\n\u001b[1;32m---> 61\u001b[1;33m         \u001b[0mcv2\u001b[0m\u001b[1;33m.\u001b[0m\u001b[0mimshow\u001b[0m\u001b[1;33m(\u001b[0m\u001b[1;34m'frame'\u001b[0m\u001b[1;33m,\u001b[0m \u001b[0mframe\u001b[0m\u001b[1;33m)\u001b[0m\u001b[1;33m\u001b[0m\u001b[1;33m\u001b[0m\u001b[0m\n\u001b[0m\u001b[0;32m     62\u001b[0m         \u001b[1;32mif\u001b[0m \u001b[0mcv2\u001b[0m\u001b[1;33m.\u001b[0m\u001b[0mwaitKey\u001b[0m\u001b[1;33m(\u001b[0m\u001b[1;36m1\u001b[0m\u001b[1;33m)\u001b[0m \u001b[1;33m&\u001b[0m \u001b[1;36m0xFF\u001b[0m \u001b[1;33m==\u001b[0m \u001b[0mord\u001b[0m\u001b[1;33m(\u001b[0m\u001b[1;34m'q'\u001b[0m\u001b[1;33m)\u001b[0m\u001b[1;33m:\u001b[0m\u001b[1;33m\u001b[0m\u001b[1;33m\u001b[0m\u001b[0m\n\u001b[0;32m     63\u001b[0m             \u001b[1;32mbreak\u001b[0m\u001b[1;33m\u001b[0m\u001b[1;33m\u001b[0m\u001b[0m\n",
      "\u001b[1;31merror\u001b[0m: OpenCV(4.1.2) C:\\projects\\opencv-python\\opencv\\modules\\highgui\\src\\window.cpp:651: error: (-2:Unspecified error) The function is not implemented. Rebuild the library with Windows, GTK+ 2.x or Cocoa support. If you are on Ubuntu or Debian, install libgtk2.0-dev and pkg-config, then re-run cmake or configure script in function 'cvShowImage'\n"
     ]
    }
   ],
   "source": [
    "\n",
    "\n",
    "if __name__ == '__main__':\n",
    "    \"\"\"\n",
    "        test everything\n",
    "    \"\"\"\n",
    "    import os\n",
    "    import sys\n",
    "    from samples.coco import coco\n",
    "    from mrcnn import utils\n",
    "    from mrcnn import model as modellib\n",
    "    import matplotlib.pyplot as plt\n",
    "\n",
    "    ROOT_DIR = os.getcwd()\n",
    "    MODEL_DIR = os.path.join(ROOT_DIR, \"logs\")\n",
    "    COCO_MODEL_PATH = os.path.join(ROOT_DIR, \"mask_rcnn_coco.h5\")\n",
    "    if not os.path.exists(COCO_MODEL_PATH):\n",
    "        utils.download_trained_weights(COCO_MODEL_PATH)\n",
    "\n",
    "    class InferenceConfig(coco.CocoConfig):\n",
    "        GPU_COUNT = 1\n",
    "        IMAGES_PER_GPU = 1\n",
    "\n",
    "    config = InferenceConfig()\n",
    "    config.display()\n",
    "\n",
    "    model = modellib.MaskRCNN(\n",
    "        mode=\"inference\", model_dir=MODEL_DIR, config=config\n",
    "    )\n",
    "    model.load_weights(COCO_MODEL_PATH, by_name=True)\n",
    "    class_names = [\n",
    "        'BG', 'person', 'bicycle', 'car', 'motorcycle', 'airplane',\n",
    "        'bus', 'train', 'truck', 'boat', 'traffic light',\n",
    "        'fire hydrant', 'stop sign', 'parking meter', 'bench', 'bird',\n",
    "        'cat', 'dog', 'horse', 'sheep', 'cow', 'elephant', 'bear',\n",
    "        'zebra', 'giraffe', 'backpack', 'umbrella', 'handbag', 'tie',\n",
    "        'suitcase', 'frisbee', 'skis', 'snowboard', 'sports ball',\n",
    "        'kite', 'baseball bat', 'baseball glove', 'skateboard',\n",
    "        'surfboard', 'tennis racket', 'bottle', 'wine glass', 'cup',\n",
    "        'fork', 'knife', 'spoon', 'bowl', 'banana', 'apple',\n",
    "        'sandwich', 'orange', 'broccoli', 'carrot', 'hot dog', 'pizza',\n",
    "        'donut', 'cake', 'chair', 'couch', 'potted plant', 'bed',\n",
    "        'dining table', 'toilet', 'tv', 'laptop', 'mouse', 'remote',\n",
    "        'keyboard', 'cell phone', 'microwave', 'oven', 'toaster',\n",
    "        'sink', 'refrigerator', 'book', 'clock', 'vase', 'scissors',\n",
    "        'teddy bear', 'hair drier', 'toothbrush'\n",
    "    ]\n",
    "\n",
    "    capture = cv2.VideoCapture(0)\n",
    "\n",
    "    # these 2 lines can be removed if you dont have a 1080p camera.\n",
    "#    capture.set(cv2.CAP_PROP_FRAME_WIDTH, 800)\n",
    "#    capture.set(cv2.CAP_PROP_FRAME_HEIGHT, 800)\n",
    "\n",
    "    while True:\n",
    "        ret, frame = capture.read()\n",
    "        results = model.detect([frame], verbose=0)\n",
    "        r = results[0]\n",
    "        frame = display_instances(\n",
    "            frame, r['rois'], r['masks'], r['class_ids'], class_names, r['scores']\n",
    "        )\n",
    "#        print(frame)\n",
    "        cv2.imshow('frame', frame)\n",
    "        if cv2.waitKey(1) & 0xFF == ord('q'):\n",
    "            break\n",
    "\n",
    "    capture.release()\n",
    "    cv2.destroyAllWindows()"
   ]
  },
  {
   "cell_type": "code",
   "execution_count": null,
   "metadata": {},
   "outputs": [],
   "source": [
    "pip uninstall opencv-python"
   ]
  },
  {
   "cell_type": "code",
   "execution_count": null,
   "metadata": {},
   "outputs": [],
   "source": []
  }
 ],
 "metadata": {
  "kernelspec": {
   "display_name": "Python 3",
   "language": "python",
   "name": "python3"
  },
  "language_info": {
   "codemirror_mode": {
    "name": "ipython",
    "version": 3
   },
   "file_extension": ".py",
   "mimetype": "text/x-python",
   "name": "python",
   "nbconvert_exporter": "python",
   "pygments_lexer": "ipython3",
   "version": "3.6.9"
  }
 },
 "nbformat": 4,
 "nbformat_minor": 2
}
